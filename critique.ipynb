{
 "cells": [
  {
   "cell_type": "markdown",
   "metadata": {
    "collapsed": false
   },
   "source": [
    "## Is it clear how the code is organized?\n",
    "yes\n",
    "## Is the code properly documented with both docstrings and supplementary comments according to industry standards?\n",
    "No, there are few supplmenetary comments at the top of each code, though they are not throughout the entirety of the code\n",
    "## Can you follow the algorithm of the code?\n",
    "Yes, though in sequences.py l.append(f) comes before the calculation taking a crazy amount of time longer to run (1 milli second)\n",
    "## Do you see any suggestions for how to improve the code?\n",
    "Have more obvious variables. What does each variable mean?\n",
    "## Are the test cases in the test module run by the code automatically by Travis?\n",
    "Nope\n",
    "Most everything looked good, the only big thing I would change would be to have commentary in the code and make sure it is being run by travis to ensure that it works!\n",
    "90/100"
   ]
  },
  {
   "cell_type": "markdown",
   "metadata": {
    "collapsed": false
   },
   "source": [
    "## Is it clear how the code is organized?\n",
    "The code is organized well and is easy to read\n",
    "## Is the code properly documented with both docstrings and supplementary comments according to industry standards?\n",
    "There is no documentation at all, though the code is simple enough to read easily\n",
    "## Can you follow the algorithm of the code?\n",
    "Yes, it is easy to follow and variables are labeled descriptively\n",
    "## Do you see any suggestions for how to improve the code?\n",
    "More comments so that future, more complicated code is just as easy to read\n",
    "## Does the code work?\n",
    "Yes, it produces the correct output\n",
    "## Are the test cases in the test module run by the code automatically by Travis?\n",
    "Yes, it is run and passes Travis tests\n",
    "\n",
    "95/100 The only issue is a lack of documentation."
   ]
  }
 ],
 "metadata": {
  "kernelspec": {
   "display_name": "Python 3 (Anaconda 5)",
   "language": "python",
   "name": "anaconda5"
  }
 },
 "nbformat": 4,
 "nbformat_minor": 0
}