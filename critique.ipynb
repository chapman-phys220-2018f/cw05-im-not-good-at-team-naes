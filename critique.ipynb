{
 "cells": [
  {
   "cell_type": "markdown",
   "metadata": {
    "collapsed": false
   },
   "source": [
    "## Is it clear how the code is organized?\n",
    "yes\n",
    "## Is the code properly documented with both docstrings and supplementary comments according to industry standards?\n",
    "No, there are few supplmenetary comments at the top of each code, though they are not throughout the entirety of the code\n",
    "## Can you follow the algorithm of the code?\n",
    "Yes, though in sequences.py l.append(f) comes before the calculation taking a crazy amount of time longer to run (1 milli second)\n",
    "## Do you see any suggestions for how to improve the code?\n",
    "Have more obvious variables. What does each variable mean?\n",
    "## Are the test cases in the test module run by the code automatically by Travis?\n",
    "Nope\n",
    "Most everything looked good, the only big thing I would change would be to have commentary in the code and make sure it is being run by travis to ensure that it works!\n",
    "90/100"
   ]
  },
  {
   "cell_type": "code",
   "execution_count": 0,
   "metadata": {
    "collapsed": false
   },
   "outputs": [
   ],
   "source": [
   ]
  }
 ],
 "metadata": {
  "kernelspec": {
   "display_name": "Python 3 (Anaconda 5)",
   "language": "python",
   "name": "anaconda5"
  }
 },
 "nbformat": 4,
 "nbformat_minor": 0
}