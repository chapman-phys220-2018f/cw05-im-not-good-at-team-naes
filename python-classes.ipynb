{
 "cells": [
  {
   "cell_type": "code",
   "execution_count": 3,
   "metadata": {
    "collapsed": false
   },
   "outputs": [
    {
     "name": "stdout",
     "output_type": "stream",
     "text": [
      "I, Napoleon, do roar.\n",
      "I, Ronaldo, do roar.\n",
      "I, Ronaldo, do roar.\n",
      "I, Ronaldo, do roar.\n"
     ]
    }
   ],
   "source": [
    "class Bear(object):           # subclass of \"object\"\n",
    "    \"\"\"Bear as a data-type\"\"\"\n",
    "    \n",
    "    fur = \"brown\"             # class attribute\n",
    "                              # (data stored by class)\n",
    "    \n",
    "    def __init__(self, name): # class constructor\n",
    "        self.name = name      # instance attribute\n",
    "                              # (data stored by object)\n",
    "    \n",
    "    def roar(self):           # instance method\n",
    "        print(\"I, {}, do roar.\".format(self.name))\n",
    "        \n",
    "Bear.fur\n",
    "b1 = Bear(\"Ronaldo\")\n",
    "type(b1)\n",
    "b1.name\n",
    "b1.fur\n",
    "b2 = Bear(\"Napoleon\")\n",
    "b2.name\n",
    "b2.roar()\n",
    "b1.roar()\n",
    "Bear.roar(b1)\n",
    "type(b1).roar(b1)"
   ]
  },
  {
   "cell_type": "code",
   "execution_count": 7,
   "metadata": {
    "collapsed": false
   },
   "outputs": [
    {
     "name": "stdout",
     "output_type": "stream",
     "text": [
      "I, Ronaldo, do roar.\n",
      "I, George, cannot roar.\n",
      "I, George, do roar.\n"
     ]
    }
   ],
   "source": [
    "class StuffedBear(Bear):\n",
    "    def roar(self):\n",
    "        print(\"I, {}, cannot roar.\".format(self.name))\n",
    "        \n",
    "b = Bear(\"Ronaldo\")\n",
    "s = StuffedBear(\"George\")\n",
    "b.roar()\n",
    "s.roar()\n",
    "\n",
    "super(StuffedBear, s).roar()"
   ]
  },
  {
   "cell_type": "markdown",
   "metadata": {
    "collapsed": false
   },
   "source": [
    "we are still confused by magic methods... They have underscores though. We do know that"
   ]
  }
 ],
 "metadata": {
  "kernelspec": {
   "display_name": "Python 3 (Anaconda 5)",
   "language": "python",
   "name": "anaconda5"
  }
 },
 "nbformat": 4,
 "nbformat_minor": 0
}